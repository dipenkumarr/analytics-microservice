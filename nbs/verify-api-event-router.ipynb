{
 "cells": [
  {
   "cell_type": "code",
   "execution_count": 18,
   "id": "3c81be2f",
   "metadata": {},
   "outputs": [
    {
     "data": {
      "text/plain": [
       "'http://localhost:8002/api/events'"
      ]
     },
     "execution_count": 18,
     "metadata": {},
     "output_type": "execute_result"
    }
   ],
   "source": [
    "import requests\n",
    "\n",
    "baseurl = \"http://localhost:8002\"\n",
    "path = \"/api/events\"\n",
    "endpoint = baseurl + path\n",
    "endpoint"
   ]
  },
  {
   "cell_type": "code",
   "execution_count": 19,
   "id": "f021807f",
   "metadata": {},
   "outputs": [
    {
     "name": "stdout",
     "output_type": "stream",
     "text": [
      "True\n"
     ]
    }
   ],
   "source": [
    "res = requests.get(endpoint)\n",
    "print(res.ok)"
   ]
  },
  {
   "cell_type": "code",
   "execution_count": 20,
   "id": "ba9bbcbc",
   "metadata": {},
   "outputs": [
    {
     "name": "stdout",
     "output_type": "stream",
     "text": [
      "{'results': [], 'count': 0}\n"
     ]
    }
   ],
   "source": [
    "if res.ok:\n",
    "    print(res.json())"
   ]
  },
  {
   "cell_type": "code",
   "execution_count": 21,
   "id": "83fe629e",
   "metadata": {},
   "outputs": [
    {
     "name": "stdout",
     "output_type": "stream",
     "text": [
      "{'id': 13, 'page': '', 'description': ''}\n"
     ]
    }
   ],
   "source": [
    "res = requests.get(endpoint+\"/13\")\n",
    "print(res.json())"
   ]
  },
  {
   "cell_type": "code",
   "execution_count": 36,
   "id": "0a44c2d7",
   "metadata": {},
   "outputs": [
    {
     "name": "stdout",
     "output_type": "stream",
     "text": [
      "{'date': 'Sun, 11 May 2025 04:16:07 GMT', 'server': 'uvicorn', 'content-length': '45', 'content-type': 'application/json'}\n",
      "True\n",
      "{'page': '/test+', 'description': '123', 'id': 12} <class 'dict'>\n"
     ]
    }
   ],
   "source": [
    "# create end\n",
    "\n",
    "res = requests.post(endpoint, json={\"page\": \"/test+\", \"description\": \"123\"})\n",
    "print(res.headers)\n",
    "print(res.ok)\n",
    "\n",
    "if res.ok:\n",
    "    data = res.json()\n",
    "    print(data, type(data))\n",
    "else:\n",
    "    print(res.text)"
   ]
  },
  {
   "cell_type": "code",
   "execution_count": 37,
   "id": "81653c42",
   "metadata": {},
   "outputs": [
    {
     "name": "stdout",
     "output_type": "stream",
     "text": [
      "{'date': 'Sun, 11 May 2025 04:16:11 GMT', 'server': 'uvicorn', 'content-length': '475', 'content-type': 'application/json'}\n",
      "True\n",
      "{'count': 10,\n",
      " 'results': [{'description': '123', 'id': 1, 'page': '/test+'},\n",
      "             {'description': '123', 'id': 2, 'page': '/test+'},\n",
      "             {'description': '123', 'id': 3, 'page': '/test+'},\n",
      "             {'description': '123', 'id': 4, 'page': '/test+'},\n",
      "             {'description': '123', 'id': 5, 'page': '/test+'},\n",
      "             {'description': '123', 'id': 6, 'page': '/test+'},\n",
      "             {'description': '123', 'id': 7, 'page': '/test+'},\n",
      "             {'description': '123', 'id': 8, 'page': '/test+'},\n",
      "             {'description': '123', 'id': 9, 'page': '/test+'},\n",
      "             {'description': '123', 'id': 10, 'page': '/test+'}]}\n"
     ]
    }
   ],
   "source": [
    "# list all event\n",
    "from pprint import pprint\n",
    "\n",
    "res = requests.get(endpoint)\n",
    "print(res.headers)\n",
    "print(res.ok)\n",
    "\n",
    "if res.ok:\n",
    "    data = res.json()\n",
    "    pprint(data)\n",
    "else:\n",
    "    print(res.text)"
   ]
  },
  {
   "cell_type": "code",
   "execution_count": 41,
   "id": "40dbecad",
   "metadata": {},
   "outputs": [
    {
     "name": "stdout",
     "output_type": "stream",
     "text": [
      "{'date': 'Sun, 11 May 2025 04:22:39 GMT', 'server': 'uvicorn', 'content-length': '28', 'content-type': 'application/json'}\n",
      "False\n",
      "{\"detail\":\"Event not found\"}\n"
     ]
    }
   ],
   "source": [
    "# get a particular event\n",
    "from pprint import pprint\n",
    "\n",
    "detail_end = endpoint + f\"/{13}\"\n",
    "res = requests.get(detail_end)\n",
    "\n",
    "print(res.headers)\n",
    "print(res.ok)\n",
    "\n",
    "if res.ok:\n",
    "    data = res.json()\n",
    "    pprint(data)\n",
    "else:\n",
    "    print(res.text)"
   ]
  },
  {
   "cell_type": "code",
   "execution_count": null,
   "id": "7ad55edb",
   "metadata": {},
   "outputs": [],
   "source": []
  }
 ],
 "metadata": {
  "kernelspec": {
   "display_name": "venv",
   "language": "python",
   "name": "python3"
  },
  "language_info": {
   "codemirror_mode": {
    "name": "ipython",
    "version": 3
   },
   "file_extension": ".py",
   "mimetype": "text/x-python",
   "name": "python",
   "nbconvert_exporter": "python",
   "pygments_lexer": "ipython3",
   "version": "3.13.3"
  }
 },
 "nbformat": 4,
 "nbformat_minor": 5
}
