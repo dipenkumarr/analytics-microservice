{
 "cells": [
  {
   "cell_type": "code",
   "execution_count": 2,
   "id": "3c81be2f",
   "metadata": {},
   "outputs": [
    {
     "data": {
      "text/plain": [
       "'http://localhost:8002/api/events'"
      ]
     },
     "execution_count": 2,
     "metadata": {},
     "output_type": "execute_result"
    }
   ],
   "source": [
    "import requests\n",
    "\n",
    "baseurl = \"http://localhost:8002\"\n",
    "path = \"/api/events\"\n",
    "endpoint = baseurl + path\n",
    "endpoint"
   ]
  },
  {
   "cell_type": "code",
   "execution_count": 5,
   "id": "f021807f",
   "metadata": {},
   "outputs": [
    {
     "name": "stdout",
     "output_type": "stream",
     "text": [
      "True\n"
     ]
    }
   ],
   "source": [
    "res = requests.get(endpoint)\n",
    "print(res.ok)"
   ]
  },
  {
   "cell_type": "code",
   "execution_count": 6,
   "id": "ba9bbcbc",
   "metadata": {},
   "outputs": [
    {
     "name": "stdout",
     "output_type": "stream",
     "text": [
      "{'items': [1, 2, 3]}\n"
     ]
    }
   ],
   "source": [
    "if res.ok:\n",
    "    print(res.json())"
   ]
  },
  {
   "cell_type": "code",
   "execution_count": 10,
   "id": "83fe629e",
   "metadata": {},
   "outputs": [
    {
     "name": "stdout",
     "output_type": "stream",
     "text": [
      "{'id': 13}\n"
     ]
    }
   ],
   "source": [
    "res = requests.get(endpoint+\"/13\")\n",
    "print(res.json())"
   ]
  },
  {
   "cell_type": "code",
   "execution_count": null,
   "id": "0a44c2d7",
   "metadata": {},
   "outputs": [],
   "source": []
  }
 ],
 "metadata": {
  "kernelspec": {
   "display_name": "venv",
   "language": "python",
   "name": "python3"
  },
  "language_info": {
   "codemirror_mode": {
    "name": "ipython",
    "version": 3
   },
   "file_extension": ".py",
   "mimetype": "text/x-python",
   "name": "python",
   "nbconvert_exporter": "python",
   "pygments_lexer": "ipython3",
   "version": "3.13.3"
  }
 },
 "nbformat": 4,
 "nbformat_minor": 5
}
