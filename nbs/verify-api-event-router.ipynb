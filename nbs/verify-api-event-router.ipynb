{
 "cells": [
  {
   "cell_type": "code",
   "execution_count": 14,
   "id": "3c81be2f",
   "metadata": {},
   "outputs": [
    {
     "data": {
      "text/plain": [
       "'http://localhost:8002/api/events'"
      ]
     },
     "execution_count": 14,
     "metadata": {},
     "output_type": "execute_result"
    }
   ],
   "source": [
    "import requests\n",
    "\n",
    "baseurl = \"http://localhost:8002\"\n",
    "path = \"/api/events\"\n",
    "endpoint = baseurl + path\n",
    "endpoint"
   ]
  },
  {
   "cell_type": "code",
   "execution_count": 15,
   "id": "f021807f",
   "metadata": {},
   "outputs": [
    {
     "name": "stdout",
     "output_type": "stream",
     "text": [
      "True\n"
     ]
    }
   ],
   "source": [
    "res = requests.get(endpoint)\n",
    "print(res.ok)"
   ]
  },
  {
   "cell_type": "code",
   "execution_count": 16,
   "id": "ba9bbcbc",
   "metadata": {},
   "outputs": [
    {
     "name": "stdout",
     "output_type": "stream",
     "text": [
      "{'results': [], 'count': 0}\n"
     ]
    }
   ],
   "source": [
    "if res.ok:\n",
    "    print(res.json())"
   ]
  },
  {
   "cell_type": "code",
   "execution_count": 17,
   "id": "83fe629e",
   "metadata": {},
   "outputs": [
    {
     "name": "stdout",
     "output_type": "stream",
     "text": [
      "{'detail': 'Event not found'}\n"
     ]
    }
   ],
   "source": [
    "res = requests.get(endpoint+\"/13\")\n",
    "print(res.json())"
   ]
  },
  {
   "cell_type": "code",
   "execution_count": 22,
   "id": "0a44c2d7",
   "metadata": {},
   "outputs": [
    {
     "name": "stdout",
     "output_type": "stream",
     "text": [
      "{'date': 'Mon, 12 May 2025 03:32:44 GMT', 'server': 'uvicorn', 'content-length': '130', 'content-type': 'application/json'}\n",
      "True\n",
      "{'page': '/test+', 'created_at': '2025-05-12T03:32:45.376077Z', 'updated_at': '2025-05-12T03:32:45.376086Z', 'id': 5, 'description': '123'} <class 'dict'>\n"
     ]
    }
   ],
   "source": [
    "# create end\n",
    "\n",
    "res = requests.post(endpoint, json={\"page\": \"/test+\", \"description\": \"123\"})\n",
    "print(res.headers)\n",
    "print(res.ok)\n",
    "\n",
    "if res.ok:\n",
    "    data = res.json()\n",
    "    print(data, type(data))\n",
    "else:\n",
    "    print(res.text)"
   ]
  },
  {
   "cell_type": "code",
   "execution_count": 26,
   "id": "81653c42",
   "metadata": {},
   "outputs": [
    {
     "name": "stdout",
     "output_type": "stream",
     "text": [
      "{'date': 'Mon, 12 May 2025 03:35:31 GMT', 'server': 'uvicorn', 'content-length': '695', 'content-type': 'application/json'}\n",
      "True\n",
      "{'count': 5,\n",
      " 'results': [{'created_at': '2025-05-12T03:32:39.675531Z',\n",
      "              'description': 'Testing Update Event',\n",
      "              'id': 2,\n",
      "              'page': '/test+',\n",
      "              'updated_at': '2025-05-12T03:33:21.184435Z'},\n",
      "             {'created_at': '2025-05-12T03:32:45.376077Z',\n",
      "              'description': '123',\n",
      "              'id': 5,\n",
      "              'page': '/test+',\n",
      "              'updated_at': '2025-05-12T03:32:45.376086Z'},\n",
      "             {'created_at': '2025-05-12T03:32:40.255198Z',\n",
      "              'description': '123',\n",
      "              'id': 4,\n",
      "              'page': '/test+',\n",
      "              'updated_at': '2025-05-12T03:32:40.255207Z'},\n",
      "             {'created_at': '2025-05-12T03:32:39.903355Z',\n",
      "              'description': '123',\n",
      "              'id': 3,\n",
      "              'page': '/test+',\n",
      "              'updated_at': '2025-05-12T03:32:39.903363Z'},\n",
      "             {'created_at': '2025-05-12T03:32:32.675081Z',\n",
      "              'description': '123',\n",
      "              'id': 1,\n",
      "              'page': '/test+',\n",
      "              'updated_at': '2025-05-12T03:32:32.675088Z'}]}\n"
     ]
    }
   ],
   "source": [
    "# list all event\n",
    "from pprint import pprint\n",
    "\n",
    "res = requests.get(endpoint)\n",
    "print(res.headers)\n",
    "print(res.ok)\n",
    "\n",
    "if res.ok:\n",
    "    data = res.json()\n",
    "    pprint(data)\n",
    "else:\n",
    "    print(res.text)"
   ]
  },
  {
   "cell_type": "code",
   "execution_count": 24,
   "id": "40dbecad",
   "metadata": {},
   "outputs": [
    {
     "name": "stdout",
     "output_type": "stream",
     "text": [
      "{'date': 'Mon, 12 May 2025 03:32:53 GMT', 'server': 'uvicorn', 'content-length': '130', 'content-type': 'application/json'}\n",
      "True\n",
      "{'created_at': '2025-05-12T03:32:39.675531Z',\n",
      " 'description': '123',\n",
      " 'id': 2,\n",
      " 'page': '/test+',\n",
      " 'updated_at': '2025-05-12T03:32:39.675545Z'}\n"
     ]
    }
   ],
   "source": [
    "# get a particular event\n",
    "from pprint import pprint\n",
    "\n",
    "detail_end = endpoint + f\"/{2}\"\n",
    "res = requests.get(detail_end)\n",
    "\n",
    "print(res.headers)\n",
    "print(res.ok)\n",
    "\n",
    "if res.ok:\n",
    "    data = res.json()\n",
    "    pprint(data)\n",
    "else:\n",
    "    print(res.text)"
   ]
  },
  {
   "cell_type": "code",
   "execution_count": 25,
   "id": "7ad55edb",
   "metadata": {},
   "outputs": [
    {
     "name": "stdout",
     "output_type": "stream",
     "text": [
      "{'date': 'Mon, 12 May 2025 03:33:20 GMT', 'server': 'uvicorn', 'content-length': '147', 'content-type': 'application/json'}\n",
      "True\n",
      "{'created_at': '2025-05-12T03:32:39.675531Z',\n",
      " 'description': 'Testing Update Event',\n",
      " 'id': 2,\n",
      " 'page': '/test+',\n",
      " 'updated_at': '2025-05-12T03:33:21.184435Z'}\n"
     ]
    }
   ],
   "source": [
    "# update a particular event\n",
    "from pprint import pprint\n",
    "\n",
    "detail_end = endpoint + f\"/{2}\"\n",
    "res = requests.put(detail_end, json={\"description\": \"Testing Update Event\"})\n",
    "\n",
    "print(res.headers)\n",
    "print(res.ok)\n",
    "\n",
    "if res.ok:\n",
    "    data = res.json()\n",
    "    pprint(data)\n",
    "else:\n",
    "    print(res.text)"
   ]
  },
  {
   "cell_type": "code",
   "execution_count": null,
   "id": "111a273f",
   "metadata": {},
   "outputs": [],
   "source": []
  }
 ],
 "metadata": {
  "kernelspec": {
   "display_name": "venv",
   "language": "python",
   "name": "python3"
  },
  "language_info": {
   "codemirror_mode": {
    "name": "ipython",
    "version": 3
   },
   "file_extension": ".py",
   "mimetype": "text/x-python",
   "name": "python",
   "nbconvert_exporter": "python",
   "pygments_lexer": "ipython3",
   "version": "3.13.3"
  }
 },
 "nbformat": 4,
 "nbformat_minor": 5
}
