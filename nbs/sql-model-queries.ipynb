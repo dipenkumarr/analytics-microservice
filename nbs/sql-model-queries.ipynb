{
 "cells": [
  {
   "cell_type": "code",
   "execution_count": 3,
   "id": "d8989cb1",
   "metadata": {},
   "outputs": [],
   "source": [
    "import sys\n",
    "from pathlib import Path"
   ]
  },
  {
   "cell_type": "code",
   "execution_count": 4,
   "id": "828b9971",
   "metadata": {},
   "outputs": [],
   "source": [
    "src_path = Path(\"../src\").resolve()\n",
    "sys.path.append(str(src_path))"
   ]
  },
  {
   "cell_type": "code",
   "execution_count": 7,
   "id": "9a262372",
   "metadata": {},
   "outputs": [],
   "source": [
    "from api.events.model import EventModel\n",
    "from api.db.session import engine\n",
    "from sqlmodel import Session, select\n",
    "from timescaledb.hyperfunctions import time_bucket\n",
    "from pprint import pprint"
   ]
  },
  {
   "cell_type": "code",
   "execution_count": 10,
   "id": "7bf9e73f",
   "metadata": {},
   "outputs": [
    {
     "name": "stdout",
     "output_type": "stream",
     "text": [
      "SELECT eventmodel.id, eventmodel.time, eventmodel.page, eventmodel.description, eventmodel.updated_at \n",
      "FROM eventmodel ORDER BY eventmodel.updated_at\n",
      " LIMIT 10\n",
      "SELECT eventmodel.id, eventmodel.time, eventmodel.page, eventmodel.description, eventmodel.updated_at \n",
      "FROM eventmodel ORDER BY eventmodel.updated_at\n",
      " LIMIT :param_1\n"
     ]
    }
   ],
   "source": [
    "with Session(engine) as session:\n",
    "    query = select(EventModel).order_by(EventModel.updated_at).limit(10)\n",
    "    compiled_query = query.compile(compile_kwargs={\"literal_binds\": True})\n",
    "    # results = session.exec(query).all()\n",
    "    print(compiled_query)\n",
    "    print(str(query))"
   ]
  },
  {
   "cell_type": "code",
   "execution_count": 19,
   "id": "56fc580a",
   "metadata": {},
   "outputs": [
    {
     "name": "stdout",
     "output_type": "stream",
     "text": [
      "SELECT time_bucket('1 minute'::interval, eventmodel.time) AS time_bucket_1, eventmodel.page, count(*) AS count_1 \n",
      "FROM eventmodel \n",
      "WHERE eventmodel.time > '2025-05-14 03:04:31.810035+00:00' AND eventmodel.time <= '2025-05-14 05:04:31.810048+00:00' AND eventmodel.page IN ('/about', '/contact', '/pages', '/pricing', 'pricing') GROUP BY time_bucket('1 minute'::interval, eventmodel.time), eventmodel.page ORDER BY time_bucket('1 minute'::interval, eventmodel.time), eventmodel.page\n"
     ]
    }
   ],
   "source": [
    "from sqlalchemy import func\n",
    "from datetime import datetime, timedelta, timezone\n",
    "\n",
    "with Session(engine) as session:\n",
    "    bucket = time_bucket(\"1 minute\", EventModel.time)\n",
    "    pages = ['/about', '/contact', '/pages', '/pricing', 'pricing']\n",
    "    start = datetime.now(timezone.utc) - timedelta(hours=1)\n",
    "    finish = datetime.now(timezone.utc) + timedelta(hours=1)\n",
    "\n",
    "    query = (\n",
    "        select(bucket, EventModel.page, func.count())\n",
    "        .where(EventModel.time > start, EventModel.time <= finish, EventModel.page.in_(pages))\n",
    "        .group_by(bucket, EventModel.page)\n",
    "        .order_by(bucket, EventModel.page)\n",
    "    )\n",
    "    compiled_query = query.compile(compile_kwargs={\"literal_binds\": True})\n",
    "    results = session.exec(query).fetchall()\n",
    "    # pprint(results)\n",
    "    print(compiled_query)\n",
    "    # print(str(query))"
   ]
  },
  {
   "cell_type": "code",
   "execution_count": null,
   "id": "ca863e1f",
   "metadata": {},
   "outputs": [],
   "source": []
  }
 ],
 "metadata": {
  "kernelspec": {
   "display_name": "venv",
   "language": "python",
   "name": "python3"
  },
  "language_info": {
   "codemirror_mode": {
    "name": "ipython",
    "version": 3
   },
   "file_extension": ".py",
   "mimetype": "text/x-python",
   "name": "python",
   "nbconvert_exporter": "python",
   "pygments_lexer": "ipython3",
   "version": "3.13.3"
  }
 },
 "nbformat": 4,
 "nbformat_minor": 5
}
